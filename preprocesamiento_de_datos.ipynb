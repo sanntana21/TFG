{
 "nbformat": 4,
 "nbformat_minor": 0,
 "metadata": {
  "colab": {
   "provenance": [],
   "toc_visible": true,
   "mount_file_id": "1xVYDA08BoQTB9IidzLB3dlPjvHtaE9v5",
   "authorship_tag": "ABX9TyPuXl+xlwSO2x8O57oHlhl4",
   "include_colab_link": true
  },
  "kernelspec": {
   "name": "python3",
   "display_name": "Python 3"
  },
  "language_info": {
   "name": "python"
  }
 },
 "cells": [
  {
   "cell_type": "markdown",
   "metadata": {
    "id": "view-in-github",
    "colab_type": "text"
   },
   "source": [
    "<a href=\"https://colab.research.google.com/github/sanntana21/TFG/blob/first_model_implementation/preprocesamiento_de_datos.ipynb\" target=\"_parent\"><img src=\"https://colab.research.google.com/assets/colab-badge.svg\" alt=\"Open In Colab\"/></a>"
   ]
  },
  {
   "cell_type": "code",
   "source": [
    "import pandas as pd\n",
    "import numpy as np\n",
    "import pickle\n",
    "import matplotlib.pyplot as plt\n",
    "import plotly.express as px"
   ],
   "metadata": {
    "id": "IRtTEUJJeZPF"
   },
   "execution_count": 1,
   "outputs": []
  },
  {
   "cell_type": "code",
   "source": [
    "DATA_SET_AGRUPADO = dict() \n",
    "DATA_SET_INDIVIDUAL = dict()\n",
    "DATA_SET_MATRICIAL = dict()\n",
    "\n",
    "DATA_SET_AGRUPADO[\"generar\"] = False\n",
    "DATA_SET_AGRUPADO[\"cargar\"] = False\n",
    "DATA_SET_AGRUPADO[\"pintar\"] = False\n",
    "\n",
    "DATA_SET_INDIVIDUAL[\"generar\"] = True\n",
    "DATA_SET_INDIVIDUAL[\"pintar\"] = True\n",
    "DATA_SET_MATRICIAL[\"generar\"] = False\n",
    "DATA_SET_MATRICIAL[\"pintar\"] = False\n",
    "\n",
    "initial = True\n",
    "MINUTES_PER_DAY = 1440\n",
    "HOURS_PER_DAY = 24\n",
    "DAY = 1\n",
    "STARTED_MINUTE = 1440\n",
    "MINUTES_IN_THE_STUDY = 41760\n",
    "LOCAL = True\n"
   ],
   "metadata": {
    "id": "Kh4qWiQIDg4H"
   },
   "execution_count": 2,
   "outputs": []
  },
  {
   "cell_type": "markdown",
   "source": [
    "# **FUNCIONES AUXILIARES**"
   ],
   "metadata": {
    "id": "46dNy0Oqe4uJ"
   }
  },
  {
   "cell_type": "code",
   "source": [
    "def make_preds(model, input_data):\n",
    "  \"\"\"\n",
    "  Uses model to make predictions on input_data.\n",
    "\n",
    "  Parameters\n",
    "  ----------\n",
    "  model: trained model \n",
    "  input_data: windowed input data (same kind of data model was trained on)\n",
    "\n",
    "  Returns model predictions on input_data.\n",
    "  \"\"\"\n",
    "  forecast = model.predict(input_data)\n",
    "  return tf.squeeze(forecast) # return 1D array of predictions\n",
    "\n",
    "def plot_predictions_vs_real(predictions, reals):\n",
    "    df = pd.DataFrame()\n",
    "    number_of_points = len(predictions)\n",
    "    df[\"hour\"] = range(0,number_of_points)\n",
    "    df[\"participant\"] = \"prediction\"\n",
    "    df[\"value\"] = predictions\n",
    "    for i in range(0,number_of_points):\n",
    "      df.loc[number_of_points+i] = [i,\"real\",reals[i]]\n",
    "\n",
    "    print(df)\n",
    "\n",
    "    plt.figure(1)\n",
    "    fig = px.line(df, x = \"hour\", y = \"value\" , title = \"predicitons vs reals\" , color = \"participant\")\n",
    "    fig.update_xaxes(\n",
    "          rangeslider_visible = True,\n",
    "          rangeselector = dict(\n",
    "              buttons = list([\n",
    "                  dict(count=1,label=\"1y\",step=\"year\",stepmode=\"backward\"),\n",
    "                  dict(count=2,label=\"2y\",step=\"year\",stepmode=\"backward\"),\n",
    "                  dict(count=3,label=\"3y\",step=\"year\",stepmode=\"backward\"),\n",
    "                  dict(step=\"all\")\n",
    "              ])\n",
    "          )\n",
    "\n",
    "      )\n",
    "    fig.show()\n",
    "\n",
    "def set_output_precision(decimals):\n",
    "  \"\"\"\n",
    "  format the output of the all the data structures\n",
    "  with an specific number of decimals\n",
    "  \"\"\"\n",
    "  np.set_printoptions(precision=decimals)\n",
    "  into='{'+':.{}f'.format(decimals)+'}'\n",
    "  pd.options.display.float_format = into.format\n",
    "\n",
    "  pass\n",
    "\n",
    "set_output_precision(6)\n",
    "\n",
    "\n",
    "def plot_ts(df,dfx=\"Minute\",dfy=\"METS\",_title=\"DF minute x Mets\"):\n",
    "  if not isinstance(df,pd.DataFrame):\n",
    "    df = pd.DataFrame({'METS': df, 'Minute': range(len(df))})\n",
    "\n",
    "  plt.figure()\n",
    "  fig = px.line(df, x = dfx, y = dfy , title = _title)\n",
    "  fig.update_xaxes(\n",
    "      rangeslider_visible = True,\n",
    "      rangeselector = dict(\n",
    "          buttons = list([\n",
    "              dict(count=1,label=\"1y\",step=\"year\",stepmode=\"backward\"),\n",
    "              dict(count=2,label=\"2y\",step=\"year\",stepmode=\"backward\"),\n",
    "              dict(count=3,label=\"3y\",step=\"year\",stepmode=\"backward\"),\n",
    "              dict(step=\"all\")\n",
    "          ])\n",
    "      )\n",
    "\n",
    "  )\n",
    "  fig.show()"
   ],
   "metadata": {
    "id": "utEpd3OPevgH"
   },
   "execution_count": 3,
   "outputs": []
  },
  {
   "cell_type": "markdown",
   "source": [
    "# **Procesamiento de los datos**"
   ],
   "metadata": {
    "id": "UiolFpfzfHe1"
   }
  },
  {
   "cell_type": "code",
   "source": [
    "#First we read datasets into pandasDataFrame\n",
    "if LOCAL:\n",
    "    path = \"Resources/METS_in_minutes.csv\"\n",
    "else:\n",
    "    #  We start by getting access to the drive\n",
    "    from google.colab import drive\n",
    "    drive.mount('/content/drive')\n",
    "    path = \"/content/drive/MyDrive/TFG/Resources/METS_in_minutes.csv\"\n",
    "\n",
    "df = pd.read_csv(path,sep=\",\",dtype={\"METS\":\"float32\"})\n",
    "\n",
    "print(\"Desviación de METS:\" , df[\"METS\"].std())\n",
    "print('\\033[1m' + \"SET OF VALUES\\n\" + '\\033[0m')\n",
    "print(df.head())\n",
    "\n",
    "total_nan_values = df.apply(lambda x: x.isna().sum())[\"METS\"]\n",
    "\n",
    "print('\\033[1m' + \"\\nValores NULOS: \"  + '\\033[0m' + str(total_nan_values) )"
   ],
   "metadata": {
    "colab": {
     "base_uri": "https://localhost:8080/"
    },
    "id": "RXGOLtqTfNU0",
    "outputId": "43bebcac-ccee-4295-dbeb-9c039affbd7c"
   },
   "execution_count": 4,
   "outputs": [
    {
     "name": "stdout",
     "output_type": "stream",
     "text": [
      "Desviación de METS: 0.5084145\n",
      "\u001B[1mSET OF VALUES\n",
      "\u001B[0m\n",
      "  participant            timestamp  minute     METS\n",
      "0       A3FNz  2021-11-16 00:00:00       0 0.000000\n",
      "1       A3FNz  2021-11-16 00:01:00       1 0.000000\n",
      "2       A3FNz  2021-11-16 00:02:00       2 0.000000\n",
      "3       A3FNz  2021-11-16 00:03:00       3 0.000000\n",
      "4       A3FNz  2021-11-16 00:04:00       4 0.000000\n",
      "\u001B[1m\n",
      "Valores NULOS: \u001B[0m0\n"
     ]
    }
   ]
  },
  {
   "cell_type": "code",
   "execution_count": 5,
   "outputs": [],
   "source": [
    "errores = df.loc[(df[\"METS\"] < 1) & (df[\"minute\"] > 1440)]\n",
    "STARTED_MINUTE = int(errores[\"minute\"].max())\n",
    "COMBINATIONS = (MINUTES_IN_THE_STUDY - MINUTES_PER_DAY*2 - (STARTED_MINUTE-1))"
   ],
   "metadata": {
    "collapsed": false
   }
  },
  {
   "cell_type": "code",
   "source": [
    "#Generate trainable sets for the LSTM\n",
    "\n",
    "def create_minutes_to_minutes_forecasting_sets(values,started_minute = 0):\n",
    "    X = []\n",
    "    y = []\n",
    "    for i in range(started_minute, values[\"minute\"].max() - 1439*2,1):\n",
    "        first_minute_in_window = i\n",
    "        last_minute_in_window = i + 1440\n",
    "        last_minute_in_prediction = last_minute_in_window + 1440\n",
    "        X.append([j for j in values.loc[(values[\"minute\"] >= first_minute_in_window) & (values[\"minute\"] < last_minute_in_window)][\"METS\"]])\n",
    "        y.append([j for j in values.loc[(values[\"minute\"] >= last_minute_in_window) & (values[\"minute\"] < last_minute_in_prediction)][\"METS\"]])\n",
    "    return X,y\n",
    "\n",
    "\n",
    "def create_minutes_to_hours_forecasting_sets(y_in_minutes,started_minute = 0):\n",
    "    y = []\n",
    "    for window_of_values in y_in_minutes:\n",
    "        y.append([ sum(window_of_values[first_minute_of_the_hour:first_minute_of_the_hour+60]) for first_minute_of_the_hour in range(started_minute,1440-59,60)])\n",
    "    return y\n",
    "\n",
    "\n",
    "def create_minutes_to_day_forecasting_sets(y_in_minutes):\n",
    "    y = []\n",
    "    for window_of_values in y_in_minutes:\n",
    "        y.append([sum(window_of_values)])\n",
    "    return y\n"
   ],
   "metadata": {
    "id": "n6dMp0wuiKjB"
   },
   "execution_count": 6,
   "outputs": []
  },
  {
   "cell_type": "markdown",
   "source": [
    "# **SETS GENERATION**"
   ],
   "metadata": {
    "id": "LANGB3J69B7A"
   }
  },
  {
   "cell_type": "markdown",
   "source": [
    "## GENERATE AGGREGATED DATA\n"
   ],
   "metadata": {
    "id": "2eiAbaCI1U85"
   }
  },
  {
   "cell_type": "code",
   "source": [
    "# DATA_SET_AGRUPADO[\"generar\"] = False\n",
    "def generate_aggregated_data(df):\n",
    "  dataX = []\n",
    "  dataY_minute = []\n",
    "  dataY_hour = []\n",
    "  dataY_day = []\n",
    "\n",
    "  # Paso 1: Agrupa por tiempo y suma los valores de los participantes\n",
    "  df_aggregated_by_minute = df.groupby('minute').sum()\n",
    "\n",
    "  # Paso 2: Restablece el índice para convertir 'tiempo' en una columna nuevamente\n",
    "  df_aggregated_by_minute = df_aggregated_by_minute.reset_index()\n",
    "\n",
    "  pX,pY = create_minutes_to_minutes_forecasting_sets(df_aggregated_by_minute,started_minute=STARTED_MINUTE)\n",
    "  dataX.append(pX)\n",
    "  dataY_minute.append(pY)\n",
    "  dataY_hour.append(create_minutes_to_hours_forecasting_sets(pY))\n",
    "  dataY_day.append(create_minutes_to_day_forecasting_sets(pY))\n",
    "  return dataX,dataY_minute,dataY_hour,dataY_day\n",
    "\n",
    "def load_aggregated_data():\n",
    "  file_path = '/content/drive/MyDrive/TFG/Resources/Agregado/'\n",
    "  documents = ['minuteX','minuteY','hourY','dayY']\n",
    "  data_to_load = []\n",
    "  # Save the list using pickle\n",
    "  for i in range(0,4,1):\n",
    "    with open(file_path+documents[i]+\".pkl\", 'rb') as file:\n",
    "        data_to_load.append(pickle.load(file))\n",
    "\n",
    "  return data_to_load[0],data_to_load[1],data_to_load[2],data_to_load[3]\n",
    "\n",
    "dataX = []\n",
    "dataY_minute = []\n",
    "dataY_hour = []\n",
    "dataY_day = []\n",
    "\n",
    "\n",
    "if DATA_SET_AGRUPADO[\"generar\"] == True:\n",
    "  dataX,dataY_minute,dataY_hour,dataY_day = generate_aggregated_data(df)\n",
    "  file_path = '/content/drive/MyDrive/TFG/Resources/Agregado/'\n",
    "  documents = ['minuteX','minuteY','hourY','dayY']\n",
    "  data_to_save = [dataX,dataY_minute,dataY_hour,dataY_day]\n",
    "  # Save the list using pickle\n",
    "  for i in range(0,4,1):\n",
    "    with open(file_path+documents[i]+\".pkl\", 'wb') as file:\n",
    "        pickle.dump(data_to_save[i], file)\n",
    "elif DATA_SET_AGRUPADO[\"cargar\"] == True:\n",
    "  dataX,dataY_minute,dataY_hour,dataY_day = load_aggregated_data()\n",
    "\n",
    "dataX = np.array(dataX)\n",
    "dataY_minute = np.array(dataY_minute)\n",
    "dataY_hour = np.array(dataY_hour)\n",
    "dataY_day = np.array(dataY_day)"
   ],
   "metadata": {
    "id": "dtWPuw8N8vTr"
   },
   "execution_count": 7,
   "outputs": []
  },
  {
   "cell_type": "code",
   "source": [
    "if DATA_SET_AGRUPADO[\"pintar\"] == True:\n",
    "  print(dataX.shape)\n",
    "  print(dataY_minute.shape)\n",
    "  print(dataY_hour.shape)\n",
    "  print(dataY_day.shape)\n",
    "  plot_ts(dataX[0][0],_title=\"Serie temporal agregada en minutos del día 1\")\n",
    "  plot_ts(dataY_minute[0][1440],_title=\"Predicción de la serie temporal agregada en minutos del día 1, es decir el día 2\")\n",
    "  plot_ts(dataY_hour[0][14400],_title=\"Predicción de la serie temporal agregada en horas del día 1, es decir el día 2\")\n",
    "  print('\\033[1m' + \"Valor de METS en días para la predicción del día 1, es decir dia 2 \"+'\\033[0m',dataY_day[0][2880])"
   ],
   "metadata": {
    "id": "rSySj2AR5kM6"
   },
   "execution_count": 8,
   "outputs": []
  },
  {
   "cell_type": "markdown",
   "source": [
    "## INDIVIDUAL"
   ],
   "metadata": {
    "id": "McFlFTcGGKvv"
   }
  },
  {
   "cell_type": "code",
   "source": [
    "\n",
    "if DATA_SET_INDIVIDUAL[\"generar\"] == True:\n",
    "  dataX= np.full((len(df[\"participant\"].unique()),COMBINATIONS,MINUTES_PER_DAY),0.0,dtype=np.float32)\n",
    "  dataY_minute = np.full((len(df[\"participant\"].unique()),COMBINATIONS,MINUTES_PER_DAY),0.0,dtype=np.float32)\n",
    "  dataY_hour = np.full((len(df[\"participant\"].unique()),COMBINATIONS,HOURS_PER_DAY),0.0,dtype=np.float32)\n",
    "  dataY_day = np.full((len(df[\"participant\"].unique()),COMBINATIONS,DAY),0.0,dtype=np.float32)\n",
    "  index = 0\n",
    "  for participant in df[\"participant\"].unique():\n",
    "    px_minute,py_minute = create_minutes_to_minutes_forecasting_sets(df.loc[df[\"participant\"] == participant],started_minute=STARTED_MINUTE)\n",
    "    dataX[index] = px_minute\n",
    "    dataY_minute[index] = py_minute\n",
    "    del px_minute\n",
    "    dataY_hour[index] = create_minutes_to_hours_forecasting_sets(py_minute)\n",
    "    dataY_day[index] = create_minutes_to_day_forecasting_sets(py_minute)\n",
    "    del py_minute\n",
    "    index += 1\n"
   ],
   "metadata": {
    "id": "VdniHc2DWz5t"
   },
   "execution_count": 9,
   "outputs": []
  },
  {
   "cell_type": "code",
   "execution_count": 10,
   "outputs": [],
   "source": [
    "  import gzip\n",
    "  if LOCAL:\n",
    "      file_path = 'Resources/Individual/'\n",
    "  else:\n",
    "      file_path = '/content/drive/MyDrive/TFG/Resources/Individual/'\n",
    "  documents = ['minuteX','minuteY','hourY','dayY']\n",
    "  data_to_save = [dataX,dataY_minute,dataY_hour,dataY_day]\n",
    "  # Save the list using pickle\n",
    "  for i in range(0,4,1):\n",
    "    file = file_path+documents[i]+\".pkl.gz\"\n",
    "    pickle.dump(data_to_save[i], gzip.open(file, 'wb'))"
   ],
   "metadata": {
    "collapsed": false
   }
  }
 ]
}
